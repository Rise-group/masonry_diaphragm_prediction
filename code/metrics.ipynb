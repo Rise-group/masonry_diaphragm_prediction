{
 "cells": [
  {
   "cell_type": "code",
   "execution_count": 1,
   "metadata": {},
   "outputs": [
    {
     "name": "stderr",
     "output_type": "stream",
     "text": [
      "/home/drueda/.anaconda3/lib/python3.7/site-packages/matplotlib/__init__.py:886: MatplotlibDeprecationWarning: \n",
      "examples.directory is deprecated; in the future, examples will be found relative to the 'datapath' directory.\n",
      "  \"found relative to the 'datapath' directory.\".format(key))\n"
     ]
    }
   ],
   "source": [
    "import pandas as pd\n",
    "import numpy as np\n",
    "import seaborn as sns\n",
    "import matplotlib.pyplot as plt\n",
    "from sklearn.metrics import confusion_matrix, recall_score, precision_score, f1_score, classification_report, accuracy_score"
   ]
  },
  {
   "cell_type": "code",
   "execution_count": 2,
   "metadata": {},
   "outputs": [],
   "source": [
    "def get_summary(dist, network, split):\n",
    "    path = f'{dist}/figures/{network}_{split}.csv'\n",
    "    df = pd.read_csv(path)\n",
    "    precision = round(precision_score(df.true, df.pred, average='weighted'), 2)\n",
    "    recall = round(recall_score(df.true, df.pred), 2)\n",
    "    accuracy = round(accuracy_score(df.true, df.pred), 2)\n",
    "    \n",
    "    report = classification_report(df.true, df.pred, output_dict=True)\n",
    "    precision = round(report['0']['precision'], 2)\n",
    "    recall = round(report['0']['recall'], 2)\n",
    "    accuracy = round(report['accuracy'], 2)\n",
    "    \n",
    "    return network, split, precision, recall, accuracy"
   ]
  },
  {
   "cell_type": "code",
   "execution_count": 63,
   "metadata": {},
   "outputs": [
    {
     "name": "stdout",
     "output_type": "stream",
     "text": [
      "('vgg16', 'val', 0.92, 0.8, 0.83)\n",
      "('vgg16', 'test', 0.88, 0.82, 0.79)\n",
      "('vgg19', 'val', 0.9, 0.84, 0.84)\n",
      "('vgg19', 'test', 0.9, 0.81, 0.8)\n",
      "('inceptionV3', 'val', 0.88, 0.74, 0.77)\n",
      "('inceptionV3', 'test', 0.91, 0.82, 0.82)\n",
      "('xception', 'val', 0.83, 0.84, 0.79)\n",
      "('xception', 'test', 0.87, 0.86, 0.81)\n",
      "('resnet50', 'val', 0.81, 0.86, 0.78)\n",
      "('resnet50', 'test', 0.81, 0.87, 0.77)\n"
     ]
    }
   ],
   "source": [
    "for network in ('vgg16','vgg19','inceptionV3','xception','resnet50'):\n",
    "    for split in ('val','test'):\n",
    "        print(get_summary('d3', network, split))"
   ]
  },
  {
   "cell_type": "code",
   "execution_count": 31,
   "metadata": {},
   "outputs": [],
   "source": [
    "def get_cm(network, split):\n",
    "    path_1 = f'd1/figures/{network}_{split}.csv'\n",
    "    path_2 = f'd2/figures/{network}_{split}.csv'\n",
    "    path_3 = f'd3/figures/{network}_{split}.csv'\n",
    "    \n",
    "    df1 = pd.read_csv(path_1)\n",
    "    df2 = pd.read_csv(path_2)\n",
    "    df3 = pd.read_csv(path_3)\n",
    "    \n",
    "    cm1 = confusion_matrix(df1.true, df1.pred)\n",
    "    cm2 = confusion_matrix(df2.true, df2.pred)\n",
    "    cm3 = confusion_matrix(df3.true, df3.pred)\n",
    "    \n",
    "    # All items add up to 100%\n",
    "    cm = (cm1 + cm2 + cm3)//3\n",
    "    cm_100 = cm / cm.sum()\n",
    "    \n",
    "    plt.figure(figsize=(4,4))\n",
    "    ax = sns.heatmap(cm_100, cmap='Blues', annot=True, fmt='.0%', cbar=False, annot_kws={'size':18})\n",
    "    ax.set_ylabel('Prediction', fontsize=16);\n",
    "    ax.set_xlabel('Actual', fontsize=16); \n",
    "    ax.set_xticklabels([], fontsize=14)\n",
    "    ax.set_yticklabels([], fontsize=14)\n",
    "    ax.tick_params(axis='both', which='both', length=0)\n",
    "\n",
    "    plt.text(0.5,-0.1, \"Flexible\", horizontalalignment='center', fontsize=14)\n",
    "    plt.text(1.5,-0.1, \"Rigid\", horizontalalignment='center', fontsize=14)\n",
    "\n",
    "    plt.text(2.2,0.3, \"Flexible\", horizontalalignment='center', rotation=\"vertical\", fontsize=14)\n",
    "    plt.text(2.2,1.5-.1, \"Rigid\", horizontalalignment='center', rotation=\"vertical\", fontsize=14)\n",
    "    plt.show()\n",
    "    \n",
    "    # All rows add up to 100%\n",
    "    cm = (cm1 + cm2 + cm3)//3\n",
    "    cm_norm = cm.astype('float') / cm.sum(axis=1)[:, np.newaxis]\n",
    "    \n",
    "    plt.figure(figsize=(4,4))\n",
    "    ax = sns.heatmap(cm_norm, cmap='Blues', annot=True, fmt='.0%', cbar=False, annot_kws={'size':18})\n",
    "    ax.set_ylabel('Prediction', fontsize=16);\n",
    "    ax.set_xlabel('Actual', fontsize=16); \n",
    "    ax.set_xticklabels([], fontsize=14)\n",
    "    ax.set_yticklabels([], fontsize=14)\n",
    "    ax.tick_params(axis='both', which='both', length=0)\n",
    "\n",
    "    plt.text(0.5,-0.1, \"Flexible\", horizontalalignment='center', fontsize=14)\n",
    "    plt.text(1.5,-0.1, \"Rigid\", horizontalalignment='center', fontsize=14)\n",
    "\n",
    "    plt.text(2.2,0.3, \"Flexible\", horizontalalignment='center', rotation=\"vertical\", fontsize=14)\n",
    "    plt.text(2.2,1.5-.1, \"Rigid\", horizontalalignment='center', rotation=\"vertical\", fontsize=14)\n",
    "    plt.show()\n",
    "    \n",
    "    "
   ]
  },
  {
   "cell_type": "code",
   "execution_count": 32,
   "metadata": {},
   "outputs": [
    {
     "data": {
      "image/png": "[encoded data removed]",
      "text/plain": [
       "<Figure size 288x288 with 1 Axes>"
      ]
     },
     "metadata": {
      "needs_background": "light"
     },
     "output_type": "display_data"
    },
    {
     "data": {
      "image/png": "[encoded data removed]",
      "text/plain": [
       "<Figure size 288x288 with 1 Axes>"
      ]
     },
     "metadata": {
      "needs_background": "light"
     },
     "output_type": "display_data"
    }
   ],
   "source": [
    "get_cm('vgg19', 'test')"
   ]
  },
  {
   "cell_type": "code",
   "execution_count": null,
   "metadata": {},
   "outputs": [],
   "source": []
  }
 ],
 "metadata": {
  "kernelspec": {
   "display_name": "Python 3",
   "language": "python",
   "name": "python3"
  },
  "language_info": {
   "codemirror_mode": {
    "name": "ipython",
    "version": 3
   },
   "file_extension": ".py",
   "mimetype": "text/x-python",
   "name": "python",
   "nbconvert_exporter": "python",
   "pygments_lexer": "ipython3",
   "version": "3.7.4"
  }
 },
 "nbformat": 4,
 "nbformat_minor": 2
}
